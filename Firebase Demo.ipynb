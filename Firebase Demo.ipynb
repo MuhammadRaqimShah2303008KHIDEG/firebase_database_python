{
 "cells": [
  {
   "cell_type": "code",
   "execution_count": 2,
   "id": "bc941290",
   "metadata": {},
   "outputs": [
    {
     "name": "stdout",
     "output_type": "stream",
     "text": [
      "Defaulting to user installation because normal site-packages is not writeable\n",
      "Collecting firebase_admin\n",
      "  Downloading firebase_admin-6.3.0-py3-none-any.whl (120 kB)\n",
      "\u001b[2K     \u001b[90m━━━━━━━━━━━━━━━━━━━━━━━━━━━━━━━━━━━━━━━\u001b[0m \u001b[32m120.2/120.2 KB\u001b[0m \u001b[31m2.0 MB/s\u001b[0m eta \u001b[36m0:00:00\u001b[0ma \u001b[36m0:00:01\u001b[0m\n",
      "\u001b[?25hCollecting google-api-python-client>=1.7.8\n",
      "  Downloading google_api_python_client-2.113.0-py2.py3-none-any.whl (13.0 MB)\n",
      "\u001b[2K     \u001b[90m━━━━━━━━━━━━━━━━━━━━━━━━━━━━━━━━━━━━━━━\u001b[0m \u001b[32m13.0/13.0 MB\u001b[0m \u001b[31m534.3 kB/s\u001b[0m eta \u001b[36m0:00:00\u001b[0m00:01\u001b[0m00:01\u001b[0m\n",
      "\u001b[?25hCollecting pyjwt[crypto]>=2.5.0\n",
      "  Downloading PyJWT-2.8.0-py3-none-any.whl (22 kB)\n",
      "Collecting google-cloud-firestore>=2.9.1\n",
      "  Downloading google_cloud_firestore-2.14.0-py2.py3-none-any.whl (290 kB)\n",
      "\u001b[2K     \u001b[90m━━━━━━━━━━━━━━━━━━━━━━━━━━━━━━━━━━━━━\u001b[0m \u001b[32m290.2/290.2 KB\u001b[0m \u001b[31m920.0 kB/s\u001b[0m eta \u001b[36m0:00:00\u001b[0ma \u001b[36m0:00:01\u001b[0m\n",
      "\u001b[?25hRequirement already satisfied: cachecontrol>=0.12.6 in /usr/lib/python3/dist-packages (from firebase_admin) (0.12.10)\n",
      "Collecting google-api-core[grpc]<3.0.0dev,>=1.22.1\n",
      "  Downloading google_api_core-2.15.0-py3-none-any.whl (121 kB)\n",
      "\u001b[2K     \u001b[90m━━━━━━━━━━━━━━━━━━━━━━━━━━━━━━━━━━━━━━━\u001b[0m \u001b[32m122.0/122.0 KB\u001b[0m \u001b[31m1.2 MB/s\u001b[0m eta \u001b[36m0:00:00\u001b[0ma \u001b[36m0:00:01\u001b[0m\n",
      "\u001b[?25hCollecting google-cloud-storage>=1.37.1\n",
      "  Downloading google_cloud_storage-2.14.0-py2.py3-none-any.whl (121 kB)\n",
      "\u001b[2K     \u001b[90m━━━━━━━━━━━━━━━━━━━━━━━━━━━━━━━━━━━━━━━\u001b[0m \u001b[32m121.6/121.6 KB\u001b[0m \u001b[31m1.2 MB/s\u001b[0m eta \u001b[36m0:00:00\u001b[0ma \u001b[36m0:00:01\u001b[0m\n",
      "\u001b[?25hCollecting googleapis-common-protos<2.0.dev0,>=1.56.2\n",
      "  Downloading googleapis_common_protos-1.62.0-py2.py3-none-any.whl (228 kB)\n",
      "\u001b[2K     \u001b[90m━━━━━━━━━━━━━━━━━━━━━━━━━━━━━━━━━━━━━━━\u001b[0m \u001b[32m228.7/228.7 KB\u001b[0m \u001b[31m1.4 MB/s\u001b[0m eta \u001b[36m0:00:00\u001b[0ma \u001b[36m0:00:01\u001b[0m\n",
      "\u001b[?25hCollecting google-auth<3.0.dev0,>=2.14.1\n",
      "  Downloading google_auth-2.26.2-py2.py3-none-any.whl (186 kB)\n",
      "\u001b[2K     \u001b[90m━━━━━━━━━━━━━━━━━━━━━━━━━━━━━━━━━━━━━━━\u001b[0m \u001b[32m186.5/186.5 KB\u001b[0m \u001b[31m1.1 MB/s\u001b[0m eta \u001b[36m0:00:00\u001b[0ma \u001b[36m0:00:01\u001b[0m\n",
      "\u001b[?25hCollecting protobuf!=3.20.0,!=3.20.1,!=4.21.0,!=4.21.1,!=4.21.2,!=4.21.3,!=4.21.4,!=4.21.5,<5.0.0.dev0,>=3.19.5\n",
      "  Downloading protobuf-4.25.2-cp37-abi3-manylinux2014_x86_64.whl (294 kB)\n",
      "\u001b[2K     \u001b[90m━━━━━━━━━━━━━━━━━━━━━━━━━━━━━━━━━━━━━\u001b[0m \u001b[32m294.6/294.6 KB\u001b[0m \u001b[31m103.1 kB/s\u001b[0m eta \u001b[36m0:00:00\u001b[0ma \u001b[36m0:00:01\u001b[0m\n",
      "\u001b[?25hRequirement already satisfied: requests<3.0.0.dev0,>=2.18.0 in /home/syedmuhammadraqimalishah/.local/lib/python3.11/site-packages (from google-api-core[grpc]<3.0.0dev,>=1.22.1->firebase_admin) (2.31.0)\n",
      "Collecting grpcio<2.0dev,>=1.49.1\n",
      "  Downloading grpcio-1.60.0-cp311-cp311-manylinux_2_17_x86_64.manylinux2014_x86_64.whl (5.4 MB)\n",
      "\u001b[2K     \u001b[90m━━━━━━━━━━━━━━━━━━━━━━━━━━━━━━━━━━━━━━━━\u001b[0m \u001b[32m5.4/5.4 MB\u001b[0m \u001b[31m296.6 kB/s\u001b[0m eta \u001b[36m0:00:00\u001b[0m00:01\u001b[0m00:01\u001b[0m\n",
      "\u001b[?25hCollecting grpcio-status<2.0.dev0,>=1.49.1\n",
      "  Downloading grpcio_status-1.60.0-py3-none-any.whl (14 kB)\n",
      "Requirement already satisfied: httplib2<1.dev0,>=0.15.0 in /usr/lib/python3/dist-packages (from google-api-python-client>=1.7.8->firebase_admin) (0.20.2)\n",
      "Collecting uritemplate<5,>=3.0.1\n",
      "  Using cached uritemplate-4.1.1-py2.py3-none-any.whl (10 kB)\n",
      "Collecting google-auth-httplib2>=0.1.0\n",
      "  Downloading google_auth_httplib2-0.2.0-py2.py3-none-any.whl (9.3 kB)\n",
      "Collecting google-cloud-core<3.0.0dev,>=1.4.1\n",
      "  Downloading google_cloud_core-2.4.1-py2.py3-none-any.whl (29 kB)\n",
      "Collecting proto-plus<2.0.0dev,>=1.22.0\n",
      "  Downloading proto_plus-1.23.0-py3-none-any.whl (48 kB)\n",
      "\u001b[2K     \u001b[90m━━━━━━━━━━━━━━━━━━━━━━━━━━━━━━━━━━━━━━━\u001b[0m \u001b[32m48.8/48.8 KB\u001b[0m \u001b[31m752.2 kB/s\u001b[0m eta \u001b[36m0:00:00\u001b[0ma \u001b[36m0:00:01\u001b[0m\n",
      "\u001b[?25hCollecting google-resumable-media>=2.6.0\n",
      "  Downloading google_resumable_media-2.7.0-py2.py3-none-any.whl (80 kB)\n",
      "\u001b[2K     \u001b[90m━━━━━━━━━━━━━━━━━━━━━━━━━━━━━━━━━━━━━━━\u001b[0m \u001b[32m80.6/80.6 KB\u001b[0m \u001b[31m849.8 kB/s\u001b[0m eta \u001b[36m0:00:00\u001b[0ma \u001b[36m0:00:01\u001b[0m\n",
      "\u001b[?25hCollecting google-crc32c<2.0dev,>=1.0\n",
      "  Downloading google_crc32c-1.5.0-cp311-cp311-manylinux_2_17_x86_64.manylinux2014_x86_64.whl (32 kB)\n",
      "Requirement already satisfied: cryptography>=3.4.0 in /usr/lib/python3/dist-packages (from pyjwt[crypto]>=2.5.0->firebase_admin) (3.4.8)\n",
      "Collecting cachetools<6.0,>=2.0.0\n",
      "  Using cached cachetools-5.3.2-py3-none-any.whl (9.3 kB)\n",
      "Collecting pyasn1-modules>=0.2.1\n",
      "  Using cached pyasn1_modules-0.3.0-py2.py3-none-any.whl (181 kB)\n",
      "Collecting rsa<5,>=3.1.4\n",
      "  Using cached rsa-4.9-py3-none-any.whl (34 kB)\n",
      "Requirement already satisfied: pyparsing!=3.0.0,!=3.0.1,!=3.0.2,!=3.0.3,<4,>=2.4.2 in /usr/lib/python3/dist-packages (from httplib2<1.dev0,>=0.15.0->google-api-python-client>=1.7.8->firebase_admin) (2.4.7)\n",
      "Requirement already satisfied: certifi>=2017.4.17 in /home/syedmuhammadraqimalishah/.local/lib/python3.11/site-packages (from requests<3.0.0.dev0,>=2.18.0->google-api-core[grpc]<3.0.0dev,>=1.22.1->firebase_admin) (2023.7.22)\n",
      "Requirement already satisfied: charset-normalizer<4,>=2 in /home/syedmuhammadraqimalishah/.local/lib/python3.11/site-packages (from requests<3.0.0.dev0,>=2.18.0->google-api-core[grpc]<3.0.0dev,>=1.22.1->firebase_admin) (3.3.2)\n",
      "Requirement already satisfied: idna<4,>=2.5 in /home/syedmuhammadraqimalishah/.local/lib/python3.11/site-packages (from requests<3.0.0.dev0,>=2.18.0->google-api-core[grpc]<3.0.0dev,>=1.22.1->firebase_admin) (2.10)\n",
      "Requirement already satisfied: urllib3<3,>=1.21.1 in /home/syedmuhammadraqimalishah/.local/lib/python3.11/site-packages (from requests<3.0.0.dev0,>=2.18.0->google-api-core[grpc]<3.0.0dev,>=1.22.1->firebase_admin) (1.26.15)\n",
      "Collecting pyasn1<0.6.0,>=0.4.6\n",
      "  Using cached pyasn1-0.5.1-py2.py3-none-any.whl (84 kB)\n",
      "Installing collected packages: uritemplate, pyjwt, pyasn1, protobuf, grpcio, google-crc32c, cachetools, rsa, pyasn1-modules, proto-plus, googleapis-common-protos, google-resumable-media, grpcio-status, google-auth, google-auth-httplib2, google-api-core, google-cloud-core, google-api-python-client, google-cloud-storage, google-cloud-firestore, firebase_admin\n",
      "Successfully installed cachetools-5.3.2 firebase_admin-6.3.0 google-api-core-2.15.0 google-api-python-client-2.113.0 google-auth-2.26.2 google-auth-httplib2-0.2.0 google-cloud-core-2.4.1 google-cloud-firestore-2.14.0 google-cloud-storage-2.14.0 google-crc32c-1.5.0 google-resumable-media-2.7.0 googleapis-common-protos-1.62.0 grpcio-1.60.0 grpcio-status-1.60.0 proto-plus-1.23.0 protobuf-4.25.2 pyasn1-0.5.1 pyasn1-modules-0.3.0 pyjwt-2.8.0 rsa-4.9 uritemplate-4.1.1\n",
      "Note: you may need to restart the kernel to use updated packages.\n"
     ]
    }
   ],
   "source": [
    "%pip install firebase_admin"
   ]
  },
  {
   "cell_type": "code",
   "execution_count": 2,
   "id": "5d6bd1f5",
   "metadata": {},
   "outputs": [],
   "source": [
    "# import required modules\n",
    "import firebase_admin\n",
    "from firebase_admin import db, credentials"
   ]
  },
  {
   "cell_type": "code",
   "execution_count": 3,
   "id": "cda78e26",
   "metadata": {},
   "outputs": [
    {
     "data": {
      "text/plain": [
       "<firebase_admin.App at 0x7f69c8d4ae90>"
      ]
     },
     "execution_count": 3,
     "metadata": {},
     "output_type": "execute_result"
    }
   ],
   "source": [
    "# authenticate to firebase\n",
    "cred = credentials.Certificate(\"credentials.json\")\n",
    "firebase_admin.initialize_app(cred, {\"databaseURL\": \"https://test-3b45c-default-rtdb.firebaseio.com/\"})"
   ]
  },
  {
   "cell_type": "code",
   "execution_count": 4,
   "id": "4a3f1534",
   "metadata": {},
   "outputs": [],
   "source": [
    "# creating reference to root node\n",
    "ref = db.reference(\"/\")"
   ]
  },
  {
   "cell_type": "code",
   "execution_count": 5,
   "id": "291cac1b",
   "metadata": {},
   "outputs": [
    {
     "data": {
      "text/plain": [
       "{'-NnxYJOyasugoyhCmCt9': {'Alert': 'ATM is not Working',\n",
       "  'timestamp': '2024-01-12 17:02:22'},\n",
       " '-NnxYJhiKe8fLkq0nbKu': {'Alert': 'ATM is not Working',\n",
       "  'timestamp': '2024-01-12 17:02:24'},\n",
       " '-NnxYK0crhn3a1vkG9xm': {'Alert': 'ATM is not Working',\n",
       "  'timestamp': '2024-01-12 17:02:25'},\n",
       " '-NnxYKKNaQgPc0WeD6jR': {'Alert': 'ATM is not Working',\n",
       "  'timestamp': '2024-01-12 17:02:27'},\n",
       " '-NnxYKd2q9IrgczXOLpQ': {'Alert': 'ATM is not Working',\n",
       "  'timestamp': '2024-01-12 17:02:28'},\n",
       " '-NnxYKwn8Xtk3SnIn5fS': {'Alert': 'ATM is not Working',\n",
       "  'timestamp': '2024-01-12 17:02:29'}}"
      ]
     },
     "execution_count": 5,
     "metadata": {},
     "output_type": "execute_result"
    }
   ],
   "source": [
    "# retrieving data from root node\n",
    "ref.get()"
   ]
  },
  {
   "cell_type": "code",
   "execution_count": 5,
   "id": "87e5f842",
   "metadata": {},
   "outputs": [
    {
     "data": {
      "text/plain": [
       "'All About Python'"
      ]
     },
     "execution_count": 5,
     "metadata": {},
     "output_type": "execute_result"
    }
   ],
   "source": [
    "db.reference(\"/name\").get()"
   ]
  },
  {
   "cell_type": "code",
   "execution_count": 7,
   "id": "5ff9866a",
   "metadata": {},
   "outputs": [
    {
     "data": {
      "text/plain": [
       "{'videos': 3}"
      ]
     },
     "execution_count": 7,
     "metadata": {},
     "output_type": "execute_result"
    }
   ],
   "source": [
    "# set operation\n",
    "db.reference(\"/videos\").set(3)\n",
    "ref.get()"
   ]
  },
  {
   "cell_type": "code",
   "execution_count": 28,
   "id": "71e82cf6",
   "metadata": {},
   "outputs": [
    {
     "data": {
      "text/plain": [
       "{'Alert': 'ATM is not working',\n",
       " 'codeing': 'language',\n",
       " 'language': 'python',\n",
       " 'title_count': 1,\n",
       " 'titles': {'-NnwyvzI8EpC_duVv1og': 'create modern ui in python'},\n",
       " 'videos': 3}"
      ]
     },
     "execution_count": 28,
     "metadata": {},
     "output_type": "execute_result"
    }
   ],
   "source": [
    "# update operation (update existing value)\n",
    "db.reference(\"/codeing\").set(\"language\")\n",
    "ref.get()"
   ]
  },
  {
   "cell_type": "code",
   "execution_count": 31,
   "id": "25abab43",
   "metadata": {},
   "outputs": [
    {
     "ename": "SyntaxError",
     "evalue": "invalid syntax (3144747118.py, line 2)",
     "output_type": "error",
     "traceback": [
      "\u001b[0;36m  Cell \u001b[0;32mIn[31], line 2\u001b[0;36m\u001b[0m\n\u001b[0;31m    db.reference(\"/language\").update({\"ID\":\"language\": \"python\"})\u001b[0m\n\u001b[0m                                                     ^\u001b[0m\n\u001b[0;31mSyntaxError\u001b[0m\u001b[0;31m:\u001b[0m invalid syntax\n"
     ]
    }
   ],
   "source": [
    "# update operation (update existing value)\n",
    "db.reference(\"/language\").update({\"ID\": }:{\"language\": \"python\"})\n",
    "ref.get()"
   ]
  },
  {
   "cell_type": "code",
   "execution_count": 9,
   "id": "55010565",
   "metadata": {},
   "outputs": [
    {
     "data": {
      "text/plain": [
       "{'Alert': 'ATM is not working', 'language': 'python', 'videos': 3}"
      ]
     },
     "execution_count": 9,
     "metadata": {},
     "output_type": "execute_result"
    }
   ],
   "source": [
    "# update operation (add new key value)\n",
    "db.reference(\"/\").update({\"Alert\": \"ATM is not working\"})\n",
    "ref.get()"
   ]
  },
  {
   "cell_type": "code",
   "execution_count": 10,
   "id": "f53849bc",
   "metadata": {},
   "outputs": [
    {
     "data": {
      "text/plain": [
       "'ATM is not working'"
      ]
     },
     "execution_count": 10,
     "metadata": {},
     "output_type": "execute_result"
    }
   ],
   "source": [
    "db.reference(\"/Alert\").get()"
   ]
  },
  {
   "cell_type": "code",
   "execution_count": 12,
   "id": "923a220a",
   "metadata": {},
   "outputs": [
    {
     "data": {
      "text/plain": [
       "{'Alert': 'ATM is not working',\n",
       " 'language': 'python',\n",
       " 'titles': {'-NnwyvzI8EpC_duVv1og': 'create modern ui in python'},\n",
       " 'videos': 3}"
      ]
     },
     "execution_count": 12,
     "metadata": {},
     "output_type": "execute_result"
    }
   ],
   "source": [
    "# push operation\n",
    "db.reference(\"/titles\").push().set(\"create modern ui in python\")\n",
    "ref.get()"
   ]
  },
  {
   "cell_type": "code",
   "execution_count": 32,
   "id": "b2bda9eb",
   "metadata": {},
   "outputs": [
    {
     "ename": "TypeError",
     "evalue": "increment_transaction() takes 0 positional arguments but 1 was given",
     "output_type": "error",
     "traceback": [
      "\u001b[0;31m---------------------------------------------------------------------------\u001b[0m",
      "\u001b[0;31mTypeError\u001b[0m                                 Traceback (most recent call last)",
      "Cell \u001b[0;32mIn[32], line 7\u001b[0m\n\u001b[1;32m      4\u001b[0m     current_val \u001b[38;5;241m=\u001b[39m current_val \u001b[38;5;241m+\u001b[39m \u001b[38;5;241m1\u001b[39m\n\u001b[1;32m      5\u001b[0m     \u001b[38;5;28;01mreturn\u001b[39;00m current_val\n\u001b[0;32m----> 7\u001b[0m \u001b[43mdb\u001b[49m\u001b[38;5;241;43m.\u001b[39;49m\u001b[43mreference\u001b[49m\u001b[43m(\u001b[49m\u001b[38;5;124;43m\"\u001b[39;49m\u001b[38;5;124;43m/title_count\u001b[39;49m\u001b[38;5;124;43m\"\u001b[39;49m\u001b[43m)\u001b[49m\u001b[38;5;241;43m.\u001b[39;49m\u001b[43mtransaction\u001b[49m\u001b[43m(\u001b[49m\u001b[43mincrement_transaction\u001b[49m\u001b[43m)\u001b[49m\n\u001b[1;32m      8\u001b[0m ref\u001b[38;5;241m.\u001b[39mget()\n",
      "File \u001b[0;32m~/.local/lib/python3.11/site-packages/firebase_admin/db.py:412\u001b[0m, in \u001b[0;36mReference.transaction\u001b[0;34m(self, transaction_update)\u001b[0m\n\u001b[1;32m    410\u001b[0m data, etag \u001b[38;5;241m=\u001b[39m \u001b[38;5;28mself\u001b[39m\u001b[38;5;241m.\u001b[39mget(etag\u001b[38;5;241m=\u001b[39m\u001b[38;5;28;01mTrue\u001b[39;00m)\n\u001b[1;32m    411\u001b[0m \u001b[38;5;28;01mwhile\u001b[39;00m tries \u001b[38;5;241m<\u001b[39m _TRANSACTION_MAX_RETRIES:\n\u001b[0;32m--> 412\u001b[0m     new_data \u001b[38;5;241m=\u001b[39m \u001b[43mtransaction_update\u001b[49m\u001b[43m(\u001b[49m\u001b[43mdata\u001b[49m\u001b[43m)\u001b[49m\n\u001b[1;32m    413\u001b[0m     success, data, etag \u001b[38;5;241m=\u001b[39m \u001b[38;5;28mself\u001b[39m\u001b[38;5;241m.\u001b[39mset_if_unchanged(etag, new_data)\n\u001b[1;32m    414\u001b[0m     \u001b[38;5;28;01mif\u001b[39;00m success:\n",
      "\u001b[0;31mTypeError\u001b[0m: increment_transaction() takes 0 positional arguments but 1 was given"
     ]
    }
   ],
   "source": [
    "# transaction\n",
    "def increment_transaction():\n",
    "    current_val = db.reference(\"/title_count\").get()\n",
    "    current_val = current_val + 1\n",
    "    return current_val\n",
    "\n",
    "db.reference(\"/title_count\").transaction(increment_transaction)\n",
    "ref.get()"
   ]
  },
  {
   "cell_type": "code",
   "execution_count": 6,
   "id": "688a672f",
   "metadata": {},
   "outputs": [],
   "source": [
    "db.reference(\"/\").delete()\n",
    "ref.get()"
   ]
  },
  {
   "cell_type": "raw",
   "id": "28721440",
   "metadata": {},
   "source": [
    "# delete operation\n",
    "db.reference(\"/\").delete()\n",
    "ref.get()"
   ]
  },
  {
   "cell_type": "code",
   "execution_count": 15,
   "id": "9048a56f",
   "metadata": {},
   "outputs": [
    {
     "name": "stdout",
     "output_type": "stream",
     "text": [
      "None\n"
     ]
    }
   ],
   "source": [
    "print(ref.key)"
   ]
  }
 ],
 "metadata": {
  "kernelspec": {
   "display_name": "Python 3 (ipykernel)",
   "language": "python",
   "name": "python3"
  },
  "language_info": {
   "codemirror_mode": {
    "name": "ipython",
    "version": 3
   },
   "file_extension": ".py",
   "mimetype": "text/x-python",
   "name": "python",
   "nbconvert_exporter": "python",
   "pygments_lexer": "ipython3",
   "version": "3.11.0rc1"
  }
 },
 "nbformat": 4,
 "nbformat_minor": 5
}
